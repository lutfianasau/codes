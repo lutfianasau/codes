{
 "cells": [
  {
   "cell_type": "code",
   "execution_count": 1,
   "id": "92c18a29-33e9-44e7-96e4-d1152e7b9b80",
   "metadata": {},
   "outputs": [
    {
     "name": "stdout",
     "output_type": "stream",
     "text": [
      "Sample: {'q_1_0': 1, 'q_1_1': 0, 'q_1_2': 0, 'q_2_0': 0, 'q_2_1': 1, 'q_2_2': 0, 'q_3_0': 0, 'q_3_1': 1, 'q_3_2': 0, 'q_4_0': 1, 'q_4_1': 0, 'q_4_2': 0}\n",
      "Coloring: {1: 0, 2: 1, 3: 1, 4: 0}\n"
     ]
    }
   ],
   "source": [
    "import dimod\n",
    "from dwave.system import EmbeddingComposite, DWaveSampler\n",
    "\n",
    "# Number of nodes and qubits per node\n",
    "num_nodes = 4\n",
    "qubits_per_node = 3\n",
    "\n",
    "# Edges of the graph\n",
    "edges = [(1, 2), (1, 3), (2, 4), (3, 4)]\n",
    "\n",
    "# BinaryQuadraticModel to represent the problem\n",
    "bqm = dimod.BinaryQuadraticModel({}, {}, 0.0, dimod.BINARY)\n",
    "\n",
    "# Adding constraints for each node to have exactly one color\n",
    "for node in range(1, num_nodes + 1):\n",
    "    qubits = [f'q_{node}_{color}' for color in range(qubits_per_node)]\n",
    "    # Penalty for not having exactly one color\n",
    "    for i in range(qubits_per_node):\n",
    "        bqm.add_variable(qubits[i], -1)  # Encourage each qubit to be '1'\n",
    "    for i in range(qubits_per_node):\n",
    "        for j in range(i + 1, qubits_per_node):\n",
    "            bqm.add_interaction(qubits[i], qubits[j], 2)  # Penalty for two '1's at the same node\n",
    "\n",
    "# Adding constraints to prevent adjacent nodes from having the same color\n",
    "for (node1, node2) in edges:\n",
    "    for color in range(qubits_per_node):\n",
    "        bqm.add_interaction(f'q_{node1}_{color}', f'q_{node2}_{color}', 1)\n",
    "\n",
    "# Set your API token\n",
    "token = 'DEV-ab5e6d719286e8a1c939306ee164f5f412303f4a'\n",
    "\n",
    "# Create the sampler with the API token\n",
    "sampler = EmbeddingComposite(DWaveSampler(token=token))\n",
    "sampleset = sampler.sample(bqm, num_reads=100)\n",
    "\n",
    "# Display results\n",
    "for sample in sampleset:\n",
    "    print(\"Sample:\", sample)\n",
    "    coloring = {}\n",
    "    for node in range(1, num_nodes + 1):\n",
    "        for color in range(qubits_per_node):\n",
    "            if sample[f'q_{node}_{color}'] == 1:\n",
    "                coloring[node] = color\n",
    "    print(\"Coloring:\", coloring)\n",
    "    break  # Print only the first sample\n"
   ]
  },
  {
   "cell_type": "code",
   "execution_count": 2,
   "id": "69c5f731-8c09-4fc3-a25d-e131071f7c93",
   "metadata": {},
   "outputs": [
    {
     "data": {
      "image/png": "[encoded data removed]",
      "text/plain": [
       "<Figure size 640x480 with 1 Axes>"
      ]
     },
     "metadata": {},
     "output_type": "display_data"
    }
   ],
   "source": [
    "import matplotlib.pyplot as plt \n",
    "import networkx as nx\n",
    "\n",
    "# Visualizing the graph with colored nodes\n",
    "G = nx.Graph()\n",
    "G.add_edges_from(edges)\n",
    "\n",
    "# Assign colors based on the result\n",
    "color_map = ['red', 'green', 'blue']\n",
    "node_colors = [color_map[coloring[node]] for node in G.nodes]\n",
    "\n",
    "# Draw the graph\n",
    "pos = nx.spring_layout(G)\n",
    "nx.draw(G, pos, with_labels=True, node_color=node_colors, node_size=800, font_color='white', font_weight='bold', font_size=16)\n",
    "plt.show()"
   ]
  },
  {
   "cell_type": "code",
   "execution_count": 3,
   "id": "6218ec3f-e0d9-4aca-a67f-b1ffe50dda3f",
   "metadata": {},
   "outputs": [
    {
     "name": "stdout",
     "output_type": "stream",
     "text": [
      "Total energy over 18 runs: -71.0\n",
      "Average energy over 18 runs: -3.9444444444444446\n",
      "Minimum energy: -4.0\n",
      "Maximum energy: -3.0\n"
     ]
    }
   ],
   "source": [
    "# Extract the energies from the sampling results\n",
    "energies = sampleset.record.energy\n",
    "\n",
    "# Calculate total energy across all samples\n",
    "total_energy = sum(energies)\n",
    "\n",
    "# Calculate the average energy\n",
    "average_energy = total_energy / len(energies)\n",
    "\n",
    "# Optionally, calculate other statistics\n",
    "min_energy = min(energies)\n",
    "max_energy = max(energies)\n",
    "\n",
    "# Display the results\n",
    "print(f\"Total energy over {len(energies)} runs: {total_energy}\")\n",
    "print(f\"Average energy over {len(energies)} runs: {average_energy}\")\n",
    "print(f\"Minimum energy: {min_energy}\")\n",
    "print(f\"Maximum energy: {max_energy}\")\n"
   ]
  }
 ],
 "metadata": {
  "kernelspec": {
   "display_name": "Python 3 (ipykernel)",
   "language": "python",
   "name": "python3"
  },
  "language_info": {
   "codemirror_mode": {
    "name": "ipython",
    "version": 3
   },
   "file_extension": ".py",
   "mimetype": "text/x-python",
   "name": "python",
   "nbconvert_exporter": "python",
   "pygments_lexer": "ipython3",
   "version": "3.12.2"
  }
 },
 "nbformat": 4,
 "nbformat_minor": 5
}
